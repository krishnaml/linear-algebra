{
 "cells": [
  {
   "cell_type": "markdown",
   "metadata": {},
   "source": [
    "### Matrix Decomposion\n",
    "    A matrix decomposition is a way of reducing a matrix into its constituent parts\n",
    "    Two methods are the LU matrix decomposition and the QR matrix decomposition"
   ]
  },
  {
   "cell_type": "markdown",
   "metadata": {},
   "source": [
    "### LU Decomposion \n",
    "    The LU decomposition is for square matrices and decomposes a matrix into L and U components.\n",
    "\n",
    "    A=L.U\n",
    "    \n",
    "    Where A is the square matrix that we wish to decompose, L is the lower triangle matrix and U is the upper triangle matrix."
   ]
  },
  {
   "cell_type": "code",
   "execution_count": 1,
   "metadata": {},
   "outputs": [],
   "source": [
    "import numpy as np\n",
    "from scipy import linalg"
   ]
  },
  {
   "cell_type": "code",
   "execution_count": 2,
   "metadata": {},
   "outputs": [
    {
     "name": "stdout",
     "output_type": "stream",
     "text": [
      "[[0. 1. 0.]\n",
      " [0. 0. 1.]\n",
      " [1. 0. 0.]]\n",
      "[[1.   0.   0.  ]\n",
      " [0.14 1.   0.  ]\n",
      " [0.57 0.5  1.  ]]\n",
      "[[ 7.    8.    9.  ]\n",
      " [ 0.    0.86  1.71]\n",
      " [ 0.    0.   -0.  ]]\n"
     ]
    },
    {
     "data": {
      "text/plain": [
       "array([[1., 2., 3.],\n",
       "       [4., 5., 6.],\n",
       "       [7., 8., 9.]])"
      ]
     },
     "execution_count": 2,
     "metadata": {},
     "output_type": "execute_result"
    }
   ],
   "source": [
    "# LU Decomposion\n",
    "# define square matrix\n",
    "a = np.array([[1,2,3],\n",
    "              [4,5,6],\n",
    "              [7,8,9]])\n",
    "P, L, U = linalg.lu(a)\n",
    "print(P)\n",
    "print(np.round(L,2))\n",
    "print(np.round(U,2))\n",
    "b = P.dot(L).dot(U)\n",
    "b"
   ]
  },
  {
   "cell_type": "markdown",
   "metadata": {},
   "source": [
    "### QR Decomposion\n",
    "    The QR decomposition is for n × m matrices (not limited to square matrices) and decomposes a matrix into Q and R components.\n",
    "    \n",
    "    A=Q.R\n",
    "    \n",
    "    Where \n",
    "    A is the matrix that we wish to decompose, \n",
    "    Q a matrix with the size m × m, and \n",
    "    R is an upper triangle matrix with the size m × n\n",
    "    "
   ]
  },
  {
   "cell_type": "code",
   "execution_count": 3,
   "metadata": {},
   "outputs": [
    {
     "data": {
      "text/plain": [
       "array([[-0.16903085,  0.89708523,  0.40824829],\n",
       "       [-0.50709255,  0.27602622, -0.81649658],\n",
       "       [-0.84515425, -0.34503278,  0.40824829]])"
      ]
     },
     "execution_count": 3,
     "metadata": {},
     "output_type": "execute_result"
    }
   ],
   "source": [
    "a=np.array([[1,2],\n",
    "           [3,4],\n",
    "           [5,6]])\n",
    "Q,R = np.linalg.qr(a, 'complete')\n",
    "Q"
   ]
  },
  {
   "cell_type": "code",
   "execution_count": 4,
   "metadata": {},
   "outputs": [
    {
     "data": {
      "text/plain": [
       "array([[-5.91607978, -7.43735744],\n",
       "       [ 0.        ,  0.82807867],\n",
       "       [ 0.        ,  0.        ]])"
      ]
     },
     "execution_count": 4,
     "metadata": {},
     "output_type": "execute_result"
    }
   ],
   "source": [
    "R"
   ]
  },
  {
   "cell_type": "code",
   "execution_count": 5,
   "metadata": {},
   "outputs": [
    {
     "data": {
      "text/plain": [
       "array([[1., 2.],\n",
       "       [3., 4.],\n",
       "       [5., 6.]])"
      ]
     },
     "execution_count": 5,
     "metadata": {},
     "output_type": "execute_result"
    }
   ],
   "source": [
    "b=Q.dot(R)\n",
    "b"
   ]
  },
  {
   "cell_type": "markdown",
   "metadata": {},
   "source": [
    "### Cholesky Decomposion\n",
    "    the cholesky decomposion is for square symmetric metrices where all values are greater than zero, so called positive definite matrices.\n",
    "    \n",
    "    A=L.L^T\n",
    "    Where A is the matric being decomposed\n",
    "    L is the lower triangular matrix and \n",
    "    L^T is transpose of L\n",
    "    \n",
    "    Decompose can also be written as the product of the upper triangular matrix, for example\n",
    "    \n",
    "    A=U^T.U"
   ]
  },
  {
   "cell_type": "code",
   "execution_count": 6,
   "metadata": {},
   "outputs": [
    {
     "data": {
      "text/plain": [
       "array([[1.41421356, 0.        , 0.        ],\n",
       "       [0.70710678, 1.22474487, 0.        ],\n",
       "       [0.70710678, 0.40824829, 1.15470054]])"
      ]
     },
     "execution_count": 6,
     "metadata": {},
     "output_type": "execute_result"
    }
   ],
   "source": [
    "# Cholesky decomposion\n",
    "\n",
    "# define symmetrical matix\n",
    "a = np.array([[2,1,1],\n",
    "             [1,2,1],\n",
    "             [1,1,2]])\n",
    "#factorize\n",
    "L = np.linalg.cholesky(a)\n",
    "L"
   ]
  },
  {
   "cell_type": "code",
   "execution_count": 7,
   "metadata": {},
   "outputs": [
    {
     "data": {
      "text/plain": [
       "array([[2., 1., 1.],\n",
       "       [1., 2., 1.],\n",
       "       [1., 1., 2.]])"
      ]
     },
     "execution_count": 7,
     "metadata": {},
     "output_type": "execute_result"
    }
   ],
   "source": [
    "#reconstruct\n",
    "b=L.dot(L.T)\n",
    "b"
   ]
  },
  {
   "cell_type": "markdown",
   "metadata": {},
   "source": [
    "### Eigendecomposition\n",
    "    Eigendocomposition of a matrix is a type of decomposition that involves decomposing a square matrix into a set of eigenvectors and eigenvalues\n",
    "    \n",
    "    A vector is an eigenvector of a matrix if it satisfies the following equation\n",
    "    \n",
    "    Av = λv\n",
    "    where A is the parent square matrix that we are decomposing, \n",
    "    v is the eigenvector of the matrix, and \n",
    "    λ is the lowercase Greek letter lambda and represents the eigenvalue scalar\n",
    "    \n",
    "    A = QΛQT\n",
    "    Where \n",
    "    Q is a matrix comprised of the eigenvectors, \n",
    "    Λ is the uppercase Greek letter lambda and is the diagonal matrix comprised of the eigenvalues"
   ]
  },
  {
   "cell_type": "markdown",
   "metadata": {},
   "source": [
    "### Eigenvectors and Eigenvalues\n",
    "    Eigenvectors are unit vectors, which means that their length and magnitude is equal to 1.0\n",
    "    They are often referred as right vector(column vector)\n",
    "    \n",
    "    Eigenvalues are coefficients applied to eigenvectors that give the vectors their length or magnitude\n",
    "    \n",
    "    computing the power of the matrix, become much easier when we use the eigendecomposition of the matrix\n"
   ]
  },
  {
   "cell_type": "code",
   "execution_count": 8,
   "metadata": {},
   "outputs": [],
   "source": [
    "# eigendecomposition\n",
    "a = np.array([[1,2,3],\n",
    "             [4,5,6],\n",
    "             [7,8,9]])\n",
    "values, vectors = np.linalg.eig(a)"
   ]
  },
  {
   "cell_type": "code",
   "execution_count": 9,
   "metadata": {},
   "outputs": [
    {
     "data": {
      "text/plain": [
       "array([ 1.61168440e+01, -1.11684397e+00, -9.75918483e-16])"
      ]
     },
     "execution_count": 9,
     "metadata": {},
     "output_type": "execute_result"
    }
   ],
   "source": [
    "values"
   ]
  },
  {
   "cell_type": "code",
   "execution_count": 10,
   "metadata": {},
   "outputs": [
    {
     "data": {
      "text/plain": [
       "array([[-0.23197069, -0.78583024,  0.40824829],\n",
       "       [-0.52532209, -0.08675134, -0.81649658],\n",
       "       [-0.8186735 ,  0.61232756,  0.40824829]])"
      ]
     },
     "execution_count": 10,
     "metadata": {},
     "output_type": "execute_result"
    }
   ],
   "source": [
    "vectors"
   ]
  },
  {
   "cell_type": "code",
   "execution_count": 11,
   "metadata": {},
   "outputs": [
    {
     "name": "stdout",
     "output_type": "stream",
     "text": [
      "[ -3.73863537  -8.46653421 -13.19443305]\n",
      "[ -3.73863537  -8.46653421 -13.19443305]\n"
     ]
    }
   ],
   "source": [
    "# confirm eigenvector\n",
    "a = np.array([[1,2,3],\n",
    "             [4,5,6],\n",
    "             [7,8,9]])\n",
    "# factorize\n",
    "values, vectors = np.linalg.eig(a)\n",
    "\n",
    "# confirm first eigenvector\n",
    "b = a.dot(vectors[:,0])\n",
    "print(b)\n",
    "\n",
    "\n",
    "c = vectors[:, 0] * values[0]\n",
    "print(c)"
   ]
  },
  {
   "cell_type": "code",
   "execution_count": 12,
   "metadata": {},
   "outputs": [
    {
     "data": {
      "text/plain": [
       "array([[1., 2., 3.],\n",
       "       [4., 5., 6.],\n",
       "       [7., 8., 9.]])"
      ]
     },
     "execution_count": 12,
     "metadata": {},
     "output_type": "execute_result"
    }
   ],
   "source": [
    "# reconstruct matrix\n",
    "a = np.array([[1,2,3],\n",
    "             [4,5,6],\n",
    "             [7,8,9]])\n",
    "# factorize\n",
    "values, vectors = np.linalg.eig(a)\n",
    "# create matrix from eigenvectors\n",
    "Q = vectors\n",
    "# create inverse of eighenvectors matrix\n",
    "R = np.linalg.inv(Q)\n",
    "# create diagonal matrix from eigenvalues\n",
    "L = np.diag(values)\n",
    "# reconstruct the original matrix\n",
    "b = Q.dot(L).dot(R)\n",
    "b"
   ]
  },
  {
   "cell_type": "markdown",
   "metadata": {},
   "source": [
    "### Singular-Value Decomposition\n",
    "\n",
    "    SVD, is a matrix decomposition method for reducing a matrix to its constituent parts in order to make certain subsequent matrix calculations simpler.\n",
    "    \n",
    "    A=U·Σ·V^T\n",
    "    Where A is the real n×m matrix that we wish to decompose, \n",
    "    U is an m×m matrix, \n",
    "    Σ is an m×n diagonal matrix, and \n",
    "    VT is the V transpose of an n × n matrix \n",
    "    \n",
    "    The diagonal values in the Σ matrix are known as the singular values of the original matrix A.\n",
    "    The columns of the U matrix are called the left-singular vectors of A\n",
    "    the columns of V are called the right-singular vectors of A"
   ]
  },
  {
   "cell_type": "code",
   "execution_count": 13,
   "metadata": {},
   "outputs": [
    {
     "name": "stdout",
     "output_type": "stream",
     "text": [
      "[[-0.2298477   0.88346102  0.40824829]\n",
      " [-0.52474482  0.24078249 -0.81649658]\n",
      " [-0.81964194 -0.40189603  0.40824829]]\n",
      "[9.52551809 0.51430058]\n",
      "[[-0.61962948 -0.78489445]\n",
      " [-0.78489445  0.61962948]]\n"
     ]
    }
   ],
   "source": [
    "# singular-value decomposition\n",
    "a = np.array([[1,2],\n",
    "             [3,4],\n",
    "             [5,6]])\n",
    "# factorize\n",
    "U, s, V = linalg.svd(a)\n",
    "print(U)\n",
    "print(s)\n",
    "print(V)"
   ]
  },
  {
   "cell_type": "code",
   "execution_count": 14,
   "metadata": {},
   "outputs": [
    {
     "data": {
      "text/plain": [
       "array([[1., 2.],\n",
       "       [3., 4.],\n",
       "       [5., 6.]])"
      ]
     },
     "execution_count": 14,
     "metadata": {},
     "output_type": "execute_result"
    }
   ],
   "source": [
    "# reconstruct rectangular matrix from svd\n",
    "a = np.array([[1,2],\n",
    "             [3,4],\n",
    "             [5,6]])\n",
    "# factorize\n",
    "U, s, V = linalg.svd(a)\n",
    "\n",
    "# create sigma matrix\n",
    "sigma = np.zeros((a.shape[0], a.shape[1]))\n",
    "# populate sigma with diagonal matrix\n",
    "sigma[:a.shape[1], :a.shape[1]] = np.diag(s)\n",
    "# reconstruct matrix\n",
    "b = U.dot(sigma.dot(V))\n",
    "b"
   ]
  },
  {
   "cell_type": "code",
   "execution_count": 15,
   "metadata": {},
   "outputs": [
    {
     "data": {
      "text/plain": [
       "array([[1., 2., 3.],\n",
       "       [4., 5., 6.],\n",
       "       [7., 8., 9.]])"
      ]
     },
     "execution_count": 15,
     "metadata": {},
     "output_type": "execute_result"
    }
   ],
   "source": [
    "# reconstruct squar matrix from svd\n",
    "a = np.array([[1,2,3],\n",
    "             [4,5,6],\n",
    "             [7,8,9]])\n",
    "# factorize\n",
    "U, s, V = linalg.svd(a)\n",
    "\n",
    "# create sigma matrix\n",
    "sigma = np.diag(s)\n",
    "# reconstruct matrix\n",
    "b = U.dot(sigma.dot(V))\n",
    "b"
   ]
  },
  {
   "cell_type": "markdown",
   "metadata": {},
   "source": [
    "### Pseudoinverse\n",
    "    \n",
    "    The pseudoinverse is the generalization of the matrix inverse for square matrices to rectangular matrices where the number of rows and columns are not equal.\n",
    "    \n",
    "    A+ =V ·D^+ ·U^T"
   ]
  },
  {
   "cell_type": "code",
   "execution_count": 16,
   "metadata": {},
   "outputs": [
    {
     "data": {
      "text/plain": [
       "array([[-1.00000000e+01, -5.00000000e+00,  9.07607323e-15,\n",
       "         5.00000000e+00],\n",
       "       [ 8.50000000e+00,  4.50000000e+00,  5.00000000e-01,\n",
       "        -3.50000000e+00]])"
      ]
     },
     "execution_count": 16,
     "metadata": {},
     "output_type": "execute_result"
    }
   ],
   "source": [
    "# pseudoinverse\n",
    "a = np.array([[0.1, 0.2],\n",
    "             [0.3, 0.4],\n",
    "             [0.5, 0.6],\n",
    "             [0.7, 0.8]])\n",
    "b = np.linalg.pinv(a)\n",
    "b"
   ]
  },
  {
   "cell_type": "code",
   "execution_count": 17,
   "metadata": {},
   "outputs": [
    {
     "data": {
      "text/plain": [
       "array([[-1.00000000e+01, -5.00000000e+00,  9.07607323e-15,\n",
       "         5.00000000e+00],\n",
       "       [ 8.50000000e+00,  4.50000000e+00,  5.00000000e-01,\n",
       "        -3.50000000e+00]])"
      ]
     },
     "execution_count": 17,
     "metadata": {},
     "output_type": "execute_result"
    }
   ],
   "source": [
    "# pseudoinverse via svd\n",
    "a = np.array([[0.1, 0.2],\n",
    "             [0.3, 0.4],\n",
    "             [0.5, 0.6],\n",
    "             [0.7, 0.8]])\n",
    "\n",
    "U, s, V = linalg.svd(a)\n",
    "# reciprocals of s\n",
    "d = 1.0 / s\n",
    "# create m x n D matrix\n",
    "D = np.zeros(a.shape)\n",
    "# populate D with n x n diagonal matrix\n",
    "D[:a.shape[1], :a.shape[1]] = np.diag(d)\n",
    "# calculate pseudoinverse\n",
    "b = V.T.dot(D.T).dot(U.T)\n",
    "b"
   ]
  },
  {
   "cell_type": "markdown",
   "metadata": {},
   "source": [
    "### Dimensionality Reduction\n",
    "\n",
    "    An approximate B of the original vector A can then be reconstructed\n",
    "    B=U·Σk ·Vk^T\n",
    "    \n",
    "    a descriptive subset of the data called T. This is a dense summary of the matrix or a projection\n",
    "    T = U · Σk\n",
    "    \n",
    "    transform can be calculated and applied to the original matrix A as well as other similar matrices.\n",
    "    T = A · Vk^T"
   ]
  },
  {
   "cell_type": "code",
   "execution_count": 25,
   "metadata": {},
   "outputs": [
    {
     "name": "stdout",
     "output_type": "stream",
     "text": [
      "[[ 1  2  3  4  5  6  7  8  9 10]\n",
      " [11 12 13 14 15 16 17 18 19 20]\n",
      " [21 22 23 24 25 26 27 28 29 30]]\n",
      "b= [[ 1.  2.  3.  4.  5.  6.  7.  8.  9. 10.]\n",
      " [11. 12. 13. 14. 15. 16. 17. 18. 19. 20.]\n",
      " [21. 22. 23. 24. 25. 26. 27. 28. 29. 30.]]\n",
      "T= [[-18.52157747   6.47697214]\n",
      " [-49.81310011   1.91182038]\n",
      " [-81.10462276  -2.65333138]]\n",
      "T= [[-18.52157747   6.47697214]\n",
      " [-49.81310011   1.91182038]\n",
      " [-81.10462276  -2.65333138]]\n"
     ]
    }
   ],
   "source": [
    "# data reduction with svd\n",
    "a = np.array([\n",
    "    [1,2,3,4,5,6,7,8,9,10],\n",
    "    [11,12,13,14,15,16,17,18,19,20],\n",
    "    [21,22,23,24,25,26,27,28,29,30]\n",
    "])\n",
    "print(a)\n",
    "# factorize\n",
    "U, s, V = linalg.svd(a)\n",
    "# create sigma matrix\n",
    "sigma = np.zeros((a.shape[0], a.shape[1]))\n",
    "# populate simga with diagonal matrix\n",
    "sigma[:a.shape[0], :a.shape[0]] = np.diag(s)\n",
    "# select\n",
    "n_elements = 2\n",
    "sigma = sigma[:, :n_elements]\n",
    "V = V[:n_elements, :]\n",
    "# reconstruct\n",
    "b= U.dot(sigma.dot(V))\n",
    "print('b=',b)\n",
    "# transform\n",
    "T = U.dot(sigma)\n",
    "print('T=', T)\n",
    "T = a.dot(V.T)\n",
    "print('T=', T)\n"
   ]
  },
  {
   "cell_type": "code",
   "execution_count": 28,
   "metadata": {},
   "outputs": [
    {
     "name": "stdout",
     "output_type": "stream",
     "text": [
      "[[ 1  2  3  4  5  6  7  8  9 10]\n",
      " [11 12 13 14 15 16 17 18 19 20]\n",
      " [21 22 23 24 25 26 27 28 29 30]]\n",
      "[[18.52157747  6.47697214]\n",
      " [49.81310011  1.91182038]\n",
      " [81.10462276 -2.65333138]]\n"
     ]
    }
   ],
   "source": [
    "# The TruncatedSVD class can be created in which you must specify the number of desirable features or \n",
    "# components to select, e.g. 2. You can fit the transform (e.g. calculate Vk^T ) by calling the fit() function\n",
    "# then apply it to the original matrix by calling the transform() function. \n",
    "# The result is the transform of A called T above.\n",
    "\n",
    "# svd data reduction in scikit-learn\n",
    "from sklearn.decomposition import TruncatedSVD\n",
    "# define matrix\n",
    "A = np.array([\n",
    "  [1,2,3,4,5,6,7,8,9,10],\n",
    "  [11,12,13,14,15,16,17,18,19,20],\n",
    "  [21,22,23,24,25,26,27,28,29,30]])\n",
    "print(A)\n",
    "# create transform\n",
    "svd = TruncatedSVD(n_components=2)\n",
    "# fit transform\n",
    "svd.fit(A)\n",
    "# apply transform\n",
    "result = svd.transform(A)\n",
    "print(result)"
   ]
  },
  {
   "cell_type": "code",
   "execution_count": null,
   "metadata": {},
   "outputs": [],
   "source": []
  },
  {
   "cell_type": "code",
   "execution_count": null,
   "metadata": {},
   "outputs": [],
   "source": []
  },
  {
   "cell_type": "code",
   "execution_count": null,
   "metadata": {},
   "outputs": [],
   "source": []
  },
  {
   "cell_type": "code",
   "execution_count": null,
   "metadata": {},
   "outputs": [],
   "source": []
  },
  {
   "cell_type": "code",
   "execution_count": null,
   "metadata": {},
   "outputs": [],
   "source": []
  }
 ],
 "metadata": {
  "kernelspec": {
   "display_name": "Python 3",
   "language": "python",
   "name": "python3"
  },
  "language_info": {
   "codemirror_mode": {
    "name": "ipython",
    "version": 3
   },
   "file_extension": ".py",
   "mimetype": "text/x-python",
   "name": "python",
   "nbconvert_exporter": "python",
   "pygments_lexer": "ipython3",
   "version": "3.7.2"
  }
 },
 "nbformat": 4,
 "nbformat_minor": 2
}
